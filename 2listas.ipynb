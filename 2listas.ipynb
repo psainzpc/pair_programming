{
 "cells": [
  {
   "cell_type": "code",
   "execution_count": 47,
   "metadata": {},
   "outputs": [
    {
     "name": "stdout",
     "output_type": "stream",
     "text": [
      "[13, 16, 18, 20, 22]\n",
      "[13, 16, 18, 20, 22, 13, 16, 18, 20, 22]\n"
     ]
    }
   ],
   "source": [
    "#1 Duplicar elementos de una lista\n",
    "\n",
    "lista_1 = [13, 16, 18, 20, 22]\n",
    "lista_2 = lista_1.copy()\n",
    "print(lista_2)\n",
    "lista_1.extend(lista_2)\n",
    "print(lista_1)"
   ]
  },
  {
   "cell_type": "code",
   "execution_count": 48,
   "metadata": {},
   "outputs": [
    {
     "name": "stdout",
     "output_type": "stream",
     "text": [
      "[6, 7, 8, 9, 10, 11, 12, 13]\n"
     ]
    }
   ],
   "source": [
    "# dadas las siguientes listas el output esperado es:\n",
    "lista3 = [6, 7, 8, 9]\n",
    "lista4 = [10, 11, 12, 13]\n",
    "lista_completa = lista3 + lista4\n",
    "print(lista_completa)"
   ]
  },
  {
   "cell_type": "code",
   "execution_count": 49,
   "metadata": {},
   "outputs": [
    {
     "name": "stdout",
     "output_type": "stream",
     "text": [
      "[6, 7, 8, 9, 10, 11, 12, 13]\n",
      "76\n"
     ]
    }
   ],
   "source": [
    "#3 Calcular la suma de una lista de números\n",
    "print(lista_completa)\n",
    "suma = sum(lista_completa)\n",
    "print(suma)"
   ]
  },
  {
   "cell_type": "code",
   "execution_count": 50,
   "metadata": {},
   "outputs": [
    {
     "name": "stdout",
     "output_type": "stream",
     "text": [
      "13\n"
     ]
    }
   ],
   "source": [
    "#4 Encontrar el valor máximo en una lista\n",
    "valor_max = max(lista_completa)\n",
    "print(valor_max)"
   ]
  },
  {
   "cell_type": "code",
   "execution_count": 51,
   "metadata": {},
   "outputs": [
    {
     "name": "stdout",
     "output_type": "stream",
     "text": [
      "8\n"
     ]
    }
   ],
   "source": [
    "#5 Calcular la longitud de una lista\n",
    "print(len(lista_completa))"
   ]
  },
  {
   "cell_type": "code",
   "execution_count": 52,
   "metadata": {},
   "outputs": [
    {
     "data": {
      "text/plain": [
       "4"
      ]
     },
     "execution_count": 52,
     "metadata": {},
     "output_type": "execute_result"
    }
   ],
   "source": [
    "#6 Encontrar el índice de un elemento en una lista // DUDA: ¿como se haria alrevés?\n",
    "lista_completa.index(10)"
   ]
  },
  {
   "cell_type": "code",
   "execution_count": 53,
   "metadata": {},
   "outputs": [
    {
     "name": "stdout",
     "output_type": "stream",
     "text": [
      "1\n"
     ]
    }
   ],
   "source": [
    "#7 Contar ocurrencias de un elemento en una lista\n",
    "print(lista_completa.count(11))"
   ]
  },
  {
   "cell_type": "code",
   "execution_count": 54,
   "metadata": {},
   "outputs": [
    {
     "name": "stdout",
     "output_type": "stream",
     "text": [
      "[8, 9, 10]\n"
     ]
    }
   ],
   "source": [
    "#8 Obtener una sublista de una lista\n",
    "lista_acotada = lista_completa[2:5]\n",
    "print(lista_acotada)"
   ]
  },
  {
   "cell_type": "code",
   "execution_count": 55,
   "metadata": {},
   "outputs": [
    {
     "name": "stdout",
     "output_type": "stream",
     "text": [
      "[6, 7, 8, 9, 10, 11, 12, 13]\n",
      "13\n"
     ]
    }
   ],
   "source": [
    "#9 #10 Obtener el último elemento de una lista\n",
    "print(lista_completa)\n",
    "print(lista_completa[-1])"
   ]
  },
  {
   "cell_type": "code",
   "execution_count": 56,
   "metadata": {},
   "outputs": [
    {
     "name": "stdout",
     "output_type": "stream",
     "text": [
      "[7, 8]\n"
     ]
    }
   ],
   "source": [
    "#11 Obtener una sublista de una lista\n",
    "lista_acotada2 = lista_completa[1:3]\n",
    "print(lista_acotada2)"
   ]
  },
  {
   "cell_type": "code",
   "execution_count": 57,
   "metadata": {},
   "outputs": [
    {
     "name": "stdout",
     "output_type": "stream",
     "text": [
      "[6, 'azul', 8, 9, 10, 11, 12, 13]\n"
     ]
    }
   ],
   "source": [
    "#12 Reemplazar un elemento en una lista\n",
    "lista_completa[1] = \"azul\"\n",
    "print(lista_completa)"
   ]
  },
  {
   "cell_type": "code",
   "execution_count": 65,
   "metadata": {},
   "outputs": [
    {
     "name": "stdout",
     "output_type": "stream",
     "text": [
      "[13, 12, 11, 10, 9, 8, 'azul', 6]\n"
     ]
    }
   ],
   "source": [
    "#13 Obtener una lista inversa  # porqué sale sin el reverse???\n",
    "nueva_lista_completa = lista_completa.copy()\n",
    "print(nueva_lista_completa)"
   ]
  }
 ],
 "metadata": {
  "kernelspec": {
   "display_name": "Python 3",
   "language": "python",
   "name": "python3"
  },
  "language_info": {
   "codemirror_mode": {
    "name": "ipython",
    "version": 3
   },
   "file_extension": ".py",
   "mimetype": "text/x-python",
   "name": "python",
   "nbconvert_exporter": "python",
   "pygments_lexer": "ipython3",
   "version": "3.12.4"
  }
 },
 "nbformat": 4,
 "nbformat_minor": 2
}
